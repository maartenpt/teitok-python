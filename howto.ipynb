{
   "metadata":{
   },
   "nbformat_minor":4,
   "nbformat":4,
   "cells":[
      {
         "cell_type":"markdown",
         "source":"The TEITOK Python tools provide a set of Python modules to read tokenized
         	data from TEI documents in TEITOK, and then convert to tokenized data into the
         	data format of FLAIR and SpaCy, where they can be processed. The same tools 
         	then help to incorporate the NLP results into the TEI document.",
      },
      {
         "cell_type":"code",
         "source":" print('hello world')",
         "metadata":{},
	     "language": "python",
         "execution_count":1,
         "outputs":[
            
         ]
      }
   ]
}