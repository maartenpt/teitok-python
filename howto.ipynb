{
  "metadata": {
    "language_info": {
      "codemirror_mode": {
        "name": "python",
        "version": 3
      },
      "file_extension": ".py",
      "mimetype": "text/x-python",
      "name": "python",
      "nbconvert_exporter": "python",
      "pygments_lexer": "ipython3",
      "version": "3.8"
    },
	  "kernelspec": {
	   "display_name": "Python 3 (ipykernel)",
	   "language": "python",
	   "name": "python3"
	  },
  },
  "nbformat_minor": 4,
  "nbformat": 4,
  "cells": [
    {
      "cell_type": "code",
      "source": " print('hello world')",
      "metadata": {},
      "execution_count": null,
      "outputs": []
    }
  ]
}